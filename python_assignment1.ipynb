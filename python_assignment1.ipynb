{
 "cells": [
  {
   "cell_type": "code",
   "execution_count": 11,
   "metadata": {},
   "outputs": [
    {
     "name": "stdout",
     "output_type": "stream",
     "text": [
      "hello AcadGild, My First Python program\n"
     ]
    }
   ],
   "source": [
    "#   Session 1 Assignment \n",
    "\n",
    "#1 run the first program and share screen shot\n",
    "\n",
    "print(\"hello AcadGild, My First Python program\")"
   ]
  },
  {
   "cell_type": "code",
   "execution_count": 4,
   "metadata": {},
   "outputs": [
    {
     "name": "stdout",
     "output_type": "stream",
     "text": [
      "The numbers divisible by 7 but not multiple of 5 are :\n",
      "\n",
      "[2002, 2009, 2016, 2023, 2037, 2044, 2051, 2058, 2072, 2079, 2086, 2093, 2107, 2114, 2121, 2128, 2142, 2149, 2156, 2163, 2177, 2184, 2191, 2198, 2212, 2219, 2226, 2233, 2247, 2254, 2261, 2268, 2282, 2289, 2296, 2303, 2317, 2324, 2331, 2338, 2352, 2359, 2366, 2373, 2387, 2394, 2401, 2408, 2422, 2429, 2436, 2443, 2457, 2464, 2471, 2478, 2492, 2499, 2506, 2513, 2527, 2534, 2541, 2548, 2562, 2569, 2576, 2583, 2597, 2604, 2611, 2618, 2632, 2639, 2646, 2653, 2667, 2674, 2681, 2688, 2702, 2709, 2716, 2723, 2737, 2744, 2751, 2758, 2772, 2779, 2786, 2793, 2807, 2814, 2821, 2828, 2842, 2849, 2856, 2863, 2877, 2884, 2891, 2898, 2912, 2919, 2926, 2933, 2947, 2954, 2961, 2968, 2982, 2989, 2996, 3003, 3017, 3024, 3031, 3038, 3052, 3059, 3066, 3073, 3087, 3094, 3101, 3108, 3122, 3129, 3136, 3143, 3157, 3164, 3171, 3178, 3192, 3199]\n"
     ]
    }
   ],
   "source": [
    "\n",
    "\n",
    "#2.Write a program which will find all such numbers which are divisible by 7 but are not a\n",
    "#multiple of 5, between 2000 and 3200 (both included). The numbers obtained should be printed\n",
    "#in a comma-separated sequence on a single line.\n",
    "\n",
    "#*************************************************************************************************\n",
    "# program : To Find number between 2000 and 3200 , divisible by 7 but not a multiple of 5. \n",
    "#         : Solution to be printed in comma separated sequence on single line \n",
    "#************************************************************************************************\n",
    "# Initialize i to begining of range needed\n",
    "i = 2000\n",
    "\n",
    "# To get the first number divisible by 7 starting from 2000\n",
    "while i >= 2000:\n",
    "    val = i/7\n",
    "    intval = int(i/7)\n",
    "    \n",
    "# Comparing the integer value to see if same and hence completely divisible    \n",
    "    if intval == val:\n",
    "        break\n",
    "    i +=1\n",
    "\n",
    "# List of all numbers between 2000 to 3200 divisble by 7\n",
    "lst = range(i,3200,7)\n",
    "\n",
    "\n",
    "# Initializing final list of numbers divisble by 7 but not by 5\n",
    "fnllst = []\n",
    "\n",
    "for i in lst:\n",
    "    val = i/5\n",
    "    intval = int(val)\n",
    "    if intval != val:\n",
    "        fnllst.append(i)\n",
    "    i +=1\n",
    "    \n",
    "print(\"The numbers divisible by 7 but not multiple of 5 are :\\n\" )\n",
    "print(fnllst)    \n",
    "\n",
    "#************************************************************************"
   ]
  },
  {
   "cell_type": "code",
   "execution_count": 6,
   "metadata": {},
   "outputs": [
    {
     "name": "stdout",
     "output_type": "stream",
     "text": [
      "Enter your first name priya\n",
      "Enter your last name khare\n",
      "\n",
      "hello :priya khare\n",
      "\n",
      "Name in the reverse order \n",
      "\n",
      "hello : khare priya\n"
     ]
    }
   ],
   "source": [
    "#**********************************************************************************\n",
    "\n",
    "#3. Write a Python program to accept the user's first and last name and then getting them printed\n",
    "#in the the reverse order with a space between first name and last name.\n",
    "\n",
    "\n",
    "#***********************************************************************************\n",
    "# Program : To accept users first name and last name and print them in reverse order with space in between \n",
    "#***********************************************************************************\n",
    "\n",
    "#intializing a list for capturing the name of a person\n",
    "fullName =[]\n",
    "    \n",
    "i = 0\n",
    "\n",
    "# Validating for alphabets only\n",
    "while i == 0:\n",
    "    fstname = input(\"Enter your first name \")\n",
    "    if fstname.isalpha():\n",
    "        break\n",
    "    else:\n",
    "        print(\"enter only alphabets\")\n",
    "    \n",
    "\n",
    "while i == 0:\n",
    "    lstname = input(\"Enter your last name \")\n",
    "    if lstname.isalpha():\n",
    "        break\n",
    "    else:\n",
    "        print(\"enter only alphabets\")\n",
    "\n",
    "\n",
    "#adding it in list \n",
    "fullName.append(fstname)\n",
    "fullName.append(lstname)\n",
    "\n",
    "print('\\n'+ \"hello :\" + fullName[0] + \" \" + fullName[1] +\"\\n\")\n",
    "print(\"Name in the reverse order \" + '\\n')\n",
    "print(\"hello : \" + fullName[1] + \" \" + fullName[0])\n",
    "\n",
    "\n",
    "#***********************************************************************************\n"
   ]
  },
  {
   "cell_type": "code",
   "execution_count": 12,
   "metadata": {},
   "outputs": [
    {
     "name": "stdout",
     "output_type": "stream",
     "text": [
      "Volume of Sphere of Diameter 12 cm is : 905.14 cm3\n"
     ]
    }
   ],
   "source": [
    "\n",
    "#4. Write a Python program to find the volume of a sphere with diameter 12 cm.\n",
    "#Formula: V=4/3 * π * r3\n",
    "\n",
    "#***********************************************************************************\n",
    "# Program : Program to Find Volumne of sphere of diameter 12 cm\n",
    "#***********************************************************************************\n",
    "\n",
    "# Importing a library of decimal functions, to round off the decimals\n",
    "from decimal import Decimal \n",
    "\n",
    "# Initializing variables to data given \n",
    "diameterval = 12\n",
    "radiusval =  diameterval/ 2\n",
    "\n",
    "# Setting the default value \n",
    "pival = 22/7 \n",
    "\n",
    "# Calculating the Volume of Sphere\n",
    "sphereVol = 4/3 * pival * radiusval*radiusval*radiusval\n",
    "sphereVol = Decimal(sphereVol)\n",
    "\n",
    "print(\"Volume of Sphere of Diameter 12 cm is : \"+ str(round(sphereVol,2)) + \" cm3\")\n",
    "\n",
    "#***********************************************************************************\n"
   ]
  }
 ],
 "metadata": {
  "kernelspec": {
   "display_name": "Python 3",
   "language": "python",
   "name": "python3"
  },
  "language_info": {
   "codemirror_mode": {
    "name": "ipython",
    "version": 3
   },
   "file_extension": ".py",
   "mimetype": "text/x-python",
   "name": "python",
   "nbconvert_exporter": "python",
   "pygments_lexer": "ipython3",
   "version": "3.6.5"
  }
 },
 "nbformat": 4,
 "nbformat_minor": 2
}
